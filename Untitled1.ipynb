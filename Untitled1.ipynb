{
 "cells": [
  {
   "cell_type": "code",
   "execution_count": 436,
   "id": "66b941a5",
   "metadata": {},
   "outputs": [],
   "source": [
    "# Project ID\tProject Name\tProject Description\tProject Type\tIndustry\tEnvironmental Impact\tSocial Responsibility\tGovernance Practices\tProject Location\tProject Budget(Millions)\tUser ID\n"
   ]
  },
  {
   "cell_type": "code",
   "execution_count": 437,
   "id": "4368cf7d",
   "metadata": {},
   "outputs": [],
   "source": [
    "# importing libraries\n",
    "import numpy as np \n",
    "import pandas as pd \n"
   ]
  },
  {
   "cell_type": "code",
   "execution_count": 438,
   "id": "81ac5f6a",
   "metadata": {},
   "outputs": [],
   "source": [
    "project=pd.read_csv(\"projects2.csv\")"
   ]
  },
  {
   "cell_type": "code",
   "execution_count": 439,
   "id": "9d07499d",
   "metadata": {
    "scrolled": true
   },
   "outputs": [
    {
     "data": {
      "text/html": [
       "<div>\n",
       "<style scoped>\n",
       "    .dataframe tbody tr th:only-of-type {\n",
       "        vertical-align: middle;\n",
       "    }\n",
       "\n",
       "    .dataframe tbody tr th {\n",
       "        vertical-align: top;\n",
       "    }\n",
       "\n",
       "    .dataframe thead th {\n",
       "        text-align: right;\n",
       "    }\n",
       "</style>\n",
       "<table border=\"1\" class=\"dataframe\">\n",
       "  <thead>\n",
       "    <tr style=\"text-align: right;\">\n",
       "      <th></th>\n",
       "      <th>project_id</th>\n",
       "      <th>project_name</th>\n",
       "      <th>description</th>\n",
       "      <th>project_type</th>\n",
       "      <th>Industry</th>\n",
       "      <th>environment</th>\n",
       "      <th>social</th>\n",
       "      <th>location</th>\n",
       "      <th>funding_goal(millions_USD)</th>\n",
       "    </tr>\n",
       "  </thead>\n",
       "  <tbody>\n",
       "    <tr>\n",
       "      <th>0</th>\n",
       "      <td>1213</td>\n",
       "      <td>Solar Power Plant</td>\n",
       "      <td>Construction of a large-scale solar farm to ge...</td>\n",
       "      <td>Renewable Energy</td>\n",
       "      <td>Utilities</td>\n",
       "      <td>-50 (tons CO2 reduction/year)</td>\n",
       "      <td>Improved job training &amp; opportunities</td>\n",
       "      <td>Sunnyville, California</td>\n",
       "      <td>150</td>\n",
       "    </tr>\n",
       "    <tr>\n",
       "      <th>1</th>\n",
       "      <td>1615</td>\n",
       "      <td>Sustainable Water Management</td>\n",
       "      <td>Project to improve water efficiency in agricul...</td>\n",
       "      <td>Water Conservation</td>\n",
       "      <td>Agriculture</td>\n",
       "      <td>+20% (water savings)</td>\n",
       "      <td>Community education programs on water usage</td>\n",
       "      <td>Arid Valley, Arizona</td>\n",
       "      <td>25</td>\n",
       "    </tr>\n",
       "    <tr>\n",
       "      <th>2</th>\n",
       "      <td>1211</td>\n",
       "      <td>Green Building Initiative</td>\n",
       "      <td>Retrofit of existing buildings to improve ener...</td>\n",
       "      <td>Energy Efficiency</td>\n",
       "      <td>Real Estate</td>\n",
       "      <td>-30% (building energy consumption)</td>\n",
       "      <td>Improved worker safety standards</td>\n",
       "      <td>Downtown, New York</td>\n",
       "      <td>75</td>\n",
       "    </tr>\n",
       "    <tr>\n",
       "      <th>3</th>\n",
       "      <td>11133</td>\n",
       "      <td>Eco-Friendly Packaging</td>\n",
       "      <td>Development of biodegradable packaging materials.</td>\n",
       "      <td>Waste Reduction</td>\n",
       "      <td>Manufacturing</td>\n",
       "      <td>-70% (plastic waste generated)</td>\n",
       "      <td>Fair wages &amp; benefits for employees</td>\n",
       "      <td>Coastal City, Florida</td>\n",
       "      <td>40</td>\n",
       "    </tr>\n",
       "    <tr>\n",
       "      <th>4</th>\n",
       "      <td>244</td>\n",
       "      <td>Ethical Fashion Line</td>\n",
       "      <td>Production of sustainable and ethically source...</td>\n",
       "      <td>Sustainable Production</td>\n",
       "      <td>Fashion</td>\n",
       "      <td>Reduced use of harmful chemicals</td>\n",
       "      <td>Collaboration with local artisans</td>\n",
       "      <td>Global (Online Retailer)</td>\n",
       "      <td>100</td>\n",
       "    </tr>\n",
       "  </tbody>\n",
       "</table>\n",
       "</div>"
      ],
      "text/plain": [
       "   project_id                  project_name  \\\n",
       "0        1213             Solar Power Plant   \n",
       "1        1615  Sustainable Water Management   \n",
       "2        1211     Green Building Initiative   \n",
       "3       11133        Eco-Friendly Packaging   \n",
       "4         244          Ethical Fashion Line   \n",
       "\n",
       "                                         description            project_type  \\\n",
       "0  Construction of a large-scale solar farm to ge...        Renewable Energy   \n",
       "1  Project to improve water efficiency in agricul...      Water Conservation   \n",
       "2  Retrofit of existing buildings to improve ener...       Energy Efficiency   \n",
       "3  Development of biodegradable packaging materials.         Waste Reduction   \n",
       "4  Production of sustainable and ethically source...  Sustainable Production   \n",
       "\n",
       "        Industry                         environment  \\\n",
       "0      Utilities       -50 (tons CO2 reduction/year)   \n",
       "1    Agriculture                +20% (water savings)   \n",
       "2    Real Estate  -30% (building energy consumption)   \n",
       "3  Manufacturing      -70% (plastic waste generated)   \n",
       "4        Fashion    Reduced use of harmful chemicals   \n",
       "\n",
       "                                        social                  location  \\\n",
       "0        Improved job training & opportunities    Sunnyville, California   \n",
       "1  Community education programs on water usage      Arid Valley, Arizona   \n",
       "2             Improved worker safety standards        Downtown, New York   \n",
       "3          Fair wages & benefits for employees     Coastal City, Florida   \n",
       "4            Collaboration with local artisans  Global (Online Retailer)   \n",
       "\n",
       "   funding_goal(millions_USD)  \n",
       "0                         150  \n",
       "1                          25  \n",
       "2                          75  \n",
       "3                          40  \n",
       "4                         100  "
      ]
     },
     "execution_count": 439,
     "metadata": {},
     "output_type": "execute_result"
    }
   ],
   "source": [
    "project.head()"
   ]
  },
  {
   "cell_type": "code",
   "execution_count": null,
   "id": "0b7773cd",
   "metadata": {},
   "outputs": [],
   "source": []
  },
  {
   "cell_type": "code",
   "execution_count": 440,
   "id": "667d362d",
   "metadata": {},
   "outputs": [
    {
     "data": {
      "text/plain": [
       "(60, 9)"
      ]
     },
     "execution_count": 440,
     "metadata": {},
     "output_type": "execute_result"
    }
   ],
   "source": [
    "project.shape"
   ]
  },
  {
   "cell_type": "code",
   "execution_count": 441,
   "id": "674ff6c1",
   "metadata": {},
   "outputs": [],
   "source": [
    "project=project[[\"project_id\",\"project_name\",\"description\",\"project_type\",\"Industry\",\"location\",\"environment\",\"social\",\"funding_goal(millions_USD)\"]]"
   ]
  },
  {
   "cell_type": "code",
   "execution_count": 442,
   "id": "e8383775",
   "metadata": {},
   "outputs": [
    {
     "data": {
      "text/html": [
       "<div>\n",
       "<style scoped>\n",
       "    .dataframe tbody tr th:only-of-type {\n",
       "        vertical-align: middle;\n",
       "    }\n",
       "\n",
       "    .dataframe tbody tr th {\n",
       "        vertical-align: top;\n",
       "    }\n",
       "\n",
       "    .dataframe thead th {\n",
       "        text-align: right;\n",
       "    }\n",
       "</style>\n",
       "<table border=\"1\" class=\"dataframe\">\n",
       "  <thead>\n",
       "    <tr style=\"text-align: right;\">\n",
       "      <th></th>\n",
       "      <th>project_id</th>\n",
       "      <th>project_name</th>\n",
       "      <th>description</th>\n",
       "      <th>project_type</th>\n",
       "      <th>Industry</th>\n",
       "      <th>location</th>\n",
       "      <th>environment</th>\n",
       "      <th>social</th>\n",
       "      <th>funding_goal(millions_USD)</th>\n",
       "    </tr>\n",
       "  </thead>\n",
       "  <tbody>\n",
       "    <tr>\n",
       "      <th>0</th>\n",
       "      <td>1213</td>\n",
       "      <td>Solar Power Plant</td>\n",
       "      <td>Construction of a large-scale solar farm to ge...</td>\n",
       "      <td>Renewable Energy</td>\n",
       "      <td>Utilities</td>\n",
       "      <td>Sunnyville, California</td>\n",
       "      <td>-50 (tons CO2 reduction/year)</td>\n",
       "      <td>Improved job training &amp; opportunities</td>\n",
       "      <td>150</td>\n",
       "    </tr>\n",
       "    <tr>\n",
       "      <th>1</th>\n",
       "      <td>1615</td>\n",
       "      <td>Sustainable Water Management</td>\n",
       "      <td>Project to improve water efficiency in agricul...</td>\n",
       "      <td>Water Conservation</td>\n",
       "      <td>Agriculture</td>\n",
       "      <td>Arid Valley, Arizona</td>\n",
       "      <td>+20% (water savings)</td>\n",
       "      <td>Community education programs on water usage</td>\n",
       "      <td>25</td>\n",
       "    </tr>\n",
       "    <tr>\n",
       "      <th>2</th>\n",
       "      <td>1211</td>\n",
       "      <td>Green Building Initiative</td>\n",
       "      <td>Retrofit of existing buildings to improve ener...</td>\n",
       "      <td>Energy Efficiency</td>\n",
       "      <td>Real Estate</td>\n",
       "      <td>Downtown, New York</td>\n",
       "      <td>-30% (building energy consumption)</td>\n",
       "      <td>Improved worker safety standards</td>\n",
       "      <td>75</td>\n",
       "    </tr>\n",
       "    <tr>\n",
       "      <th>3</th>\n",
       "      <td>11133</td>\n",
       "      <td>Eco-Friendly Packaging</td>\n",
       "      <td>Development of biodegradable packaging materials.</td>\n",
       "      <td>Waste Reduction</td>\n",
       "      <td>Manufacturing</td>\n",
       "      <td>Coastal City, Florida</td>\n",
       "      <td>-70% (plastic waste generated)</td>\n",
       "      <td>Fair wages &amp; benefits for employees</td>\n",
       "      <td>40</td>\n",
       "    </tr>\n",
       "    <tr>\n",
       "      <th>4</th>\n",
       "      <td>244</td>\n",
       "      <td>Ethical Fashion Line</td>\n",
       "      <td>Production of sustainable and ethically source...</td>\n",
       "      <td>Sustainable Production</td>\n",
       "      <td>Fashion</td>\n",
       "      <td>Global (Online Retailer)</td>\n",
       "      <td>Reduced use of harmful chemicals</td>\n",
       "      <td>Collaboration with local artisans</td>\n",
       "      <td>100</td>\n",
       "    </tr>\n",
       "  </tbody>\n",
       "</table>\n",
       "</div>"
      ],
      "text/plain": [
       "   project_id                  project_name  \\\n",
       "0        1213             Solar Power Plant   \n",
       "1        1615  Sustainable Water Management   \n",
       "2        1211     Green Building Initiative   \n",
       "3       11133        Eco-Friendly Packaging   \n",
       "4         244          Ethical Fashion Line   \n",
       "\n",
       "                                         description            project_type  \\\n",
       "0  Construction of a large-scale solar farm to ge...        Renewable Energy   \n",
       "1  Project to improve water efficiency in agricul...      Water Conservation   \n",
       "2  Retrofit of existing buildings to improve ener...       Energy Efficiency   \n",
       "3  Development of biodegradable packaging materials.         Waste Reduction   \n",
       "4  Production of sustainable and ethically source...  Sustainable Production   \n",
       "\n",
       "        Industry                  location  \\\n",
       "0      Utilities    Sunnyville, California   \n",
       "1    Agriculture      Arid Valley, Arizona   \n",
       "2    Real Estate        Downtown, New York   \n",
       "3  Manufacturing     Coastal City, Florida   \n",
       "4        Fashion  Global (Online Retailer)   \n",
       "\n",
       "                          environment  \\\n",
       "0       -50 (tons CO2 reduction/year)   \n",
       "1                +20% (water savings)   \n",
       "2  -30% (building energy consumption)   \n",
       "3      -70% (plastic waste generated)   \n",
       "4    Reduced use of harmful chemicals   \n",
       "\n",
       "                                        social  funding_goal(millions_USD)  \n",
       "0        Improved job training & opportunities                         150  \n",
       "1  Community education programs on water usage                          25  \n",
       "2             Improved worker safety standards                          75  \n",
       "3          Fair wages & benefits for employees                          40  \n",
       "4            Collaboration with local artisans                         100  "
      ]
     },
     "execution_count": 442,
     "metadata": {},
     "output_type": "execute_result"
    }
   ],
   "source": [
    "project.head()"
   ]
  },
  {
   "cell_type": "code",
   "execution_count": 443,
   "id": "16b43d4f",
   "metadata": {},
   "outputs": [
    {
     "data": {
      "text/plain": [
       "0                              Renewable Energy\n",
       "1                            Water Conservation\n",
       "2                             Energy Efficiency\n",
       "3                               Waste Reduction\n",
       "4                        Sustainable Production\n",
       "5                              Renewable Energy\n",
       "6                              Waste Management\n",
       "7                           Forest Conservation\n",
       "8                             Reduced Emissions\n",
       "9                            Social Development\n",
       "10                          Marine Conservation\n",
       "11                             Renewable Energy\n",
       "12                  Sustainable Food Production\n",
       "13                   Sustainable Infrastructure\n",
       "14                  Waste Reduction & Recycling\n",
       "15              Social Development & Fair Trade\n",
       "16                          Sustainable Tourism\n",
       "17                    Climate Change Adaptation\n",
       "18                             Renewable Energy\n",
       "19              Sustainable Resource Extraction\n",
       "20                            Energy Efficiency\n",
       "21                  Waste Reduction & Recycling\n",
       "22               Sustainable Forestry Practices\n",
       "23                      Sustainable Consumption\n",
       "24                             Renewable Energy\n",
       "25                          Sustainable Finance\n",
       "26                    Climate Change Adaptation\n",
       "27                  Waste Reduction & Recycling\n",
       "28                          Sustainable Tourism\n",
       "29                     Sustainable Construction\n",
       "30                             Renewable Energy\n",
       "31                   Sustainable Urban Planning\n",
       "32                 Renewable Energy & Education\n",
       "33                  Sustainable Food Production\n",
       "34                   Sustainable Transportation\n",
       "35                    Biodiversity Conservation\n",
       "36                 Sustainable Water Management\n",
       "37                  Energy Efficiency & Finance\n",
       "38               Sustainable Business Practices\n",
       "39                          Sustainable Finance\n",
       "40          Renewable Energy & Waste Management\n",
       "41                     Sustainable Construction\n",
       "42                      Sustainable Consumption\n",
       "43                      Sustainable Agriculture\n",
       "44               Sustainable Forestry Practices\n",
       "45               Renewable Energy & Clean Fuels\n",
       "46                     Sustainable Urban Design\n",
       "47      Sustainable Development & Public Health\n",
       "48             Sustainable Packaging Innovation\n",
       "49                   Sustainable Product Design\n",
       "50                      Sustainable Consumption\n",
       "51          Sustainable Supply Chain Management\n",
       "52    Sustainable Agriculture & Food Production\n",
       "53     Sustainable Food Education & Agriculture\n",
       "54                    Biodiversity Conservation\n",
       "55            Energy Efficiency & Social Equity\n",
       "56                  Waste Reduction & Recycling\n",
       "57            Sustainable Public Administration\n",
       "58                    Renewable Energy & Access\n",
       "59                          Sustainable Finance\n",
       "Name: project_type, dtype: object"
      ]
     },
     "execution_count": 443,
     "metadata": {},
     "output_type": "execute_result"
    }
   ],
   "source": [
    "#  project['description'] = project['description'].apply(lambda x: x.replace(\" \", \"\") if isinstance(x, str) else x)\n",
    "project['project_type']"
   ]
  },
  {
   "cell_type": "code",
   "execution_count": 444,
   "id": "b495e845",
   "metadata": {},
   "outputs": [],
   "source": [
    "def collapse(L):\n",
    "    L1 = []\n",
    "    for i in L:\n",
    "        L1.append(i.replace(\" \",\"\"))\n",
    "    return L1"
   ]
  },
  {
   "cell_type": "code",
   "execution_count": null,
   "id": "892d292e",
   "metadata": {},
   "outputs": [],
   "source": []
  },
  {
   "cell_type": "code",
   "execution_count": 445,
   "id": "b607a03d",
   "metadata": {},
   "outputs": [],
   "source": [
    "project['location'] =  collapse(project['location'])\n",
    "project['project_type']=collapse(project['project_type'])\n",
    "project['Industry']=collapse(project['Industry'])\n",
    "# # # project['goal']=collapse(project['goal'])"
   ]
  },
  {
   "cell_type": "code",
   "execution_count": 446,
   "id": "8ebf17d9",
   "metadata": {},
   "outputs": [
    {
     "data": {
      "text/plain": [
       "0                   Sunnyville,California\n",
       "1                      AridValley,Arizona\n",
       "2                        Downtown,NewYork\n",
       "3                     CoastalCity,Florida\n",
       "4                  Global(OnlineRetailer)\n",
       "5                         NorthSea,Europe\n",
       "6                          Suburbia,Texas\n",
       "7                    MountainRange,Canada\n",
       "8                         MajorCity,China\n",
       "9                    RuralVillages,Africa\n",
       "10                    InternationalWaters\n",
       "11                 VolcanicRegion,Iceland\n",
       "12                      GlobalSupplyChain\n",
       "13               DenselyPopulatedCity,USA\n",
       "14            Regional(MultipleLocations)\n",
       "15            CentralAmerica&SouthAmerica\n",
       "16               RemoteRainforestLocation\n",
       "17          DevelopingCountries(Multiple)\n",
       "18         RuralVillage,Sub-SaharanAfrica\n",
       "19                             Miningsite\n",
       "20          SuburbanCommunities(Multiple)\n",
       "21                      GlobalSupplyChain\n",
       "22            RainforestRegions(Multiple)\n",
       "23            National(MultipleLocations)\n",
       "24          RuralAreas(MultipleLocations)\n",
       "25                 GlobalFinancialMarkets\n",
       "26          DevelopingCountries(Multiple)\n",
       "27        UrbanCenters(MultipleLocations)\n",
       "28                            Forestsland\n",
       "29             GlobalResearch&Development\n",
       "30      CoastalRegions(MultipleLocations)\n",
       "31       DenselyPopulatedCities(Multiple)\n",
       "32             Schools(MultipleLocations)\n",
       "33                      GlobalSupplyChain\n",
       "34          Urban&SuburbanAreas(Multiple)\n",
       "35             Rural&UrbanAreas(Multiple)\n",
       "36      Municipalities(MultipleLocations)\n",
       "37            National(MultipleLocations)\n",
       "38               Global(Online&In-Person)\n",
       "39                 GlobalFinancialMarkets\n",
       "40       RuralVillages(MultipleLocations)\n",
       "41     UrbanDevelopmentProjects(Multiple)\n",
       "42        Global(Online&LocalInitiatives)\n",
       "43          DevelopingCountries(Multiple)\n",
       "44       ForestRegions(MultipleLocations)\n",
       "45          IndustrialLocations(Multiple)\n",
       "46        UrbanCenters(MultipleLocations)\n",
       "47          DevelopingCountries(Multiple)\n",
       "48              Global(OnlineCompetition)\n",
       "49                Global(ServicesOffered)\n",
       "50            National(MultipleLocations)\n",
       "51                      GlobalSupplyChain\n",
       "52        Peri-Urban&UrbanAreas(Multiple)\n",
       "53        UrbanSchools(MultipleLocations)\n",
       "54           Rural&NaturalAreas(Multiple)\n",
       "55        Low-IncomeCommunities(Multiple)\n",
       "56                      GlobalSupplyChain\n",
       "57     National&LocalGovernment(Multiple)\n",
       "58    RuralCommunities(MultipleLocations)\n",
       "59                 GlobalFinancialMarkets\n",
       "Name: location, dtype: object"
      ]
     },
     "execution_count": 446,
     "metadata": {},
     "output_type": "execute_result"
    }
   ],
   "source": [
    "project['location']"
   ]
  },
  {
   "cell_type": "code",
   "execution_count": 447,
   "id": "92917c55",
   "metadata": {},
   "outputs": [],
   "source": [
    "project['tags'] = project[\"description\"]+\" \" +project['project_type']+\" \"+project['Industry']+\" \"+project[\"environment\"]+\" \"+project[\"social\"]+ \" \"  +project['location']+\" \" +str(project['funding_goal(millions_USD)'])\n",
    "                                                                                                    "
   ]
  },
  {
   "cell_type": "code",
   "execution_count": 448,
   "id": "653dbcb9",
   "metadata": {},
   "outputs": [
    {
     "data": {
      "text/html": [
       "<div>\n",
       "<style scoped>\n",
       "    .dataframe tbody tr th:only-of-type {\n",
       "        vertical-align: middle;\n",
       "    }\n",
       "\n",
       "    .dataframe tbody tr th {\n",
       "        vertical-align: top;\n",
       "    }\n",
       "\n",
       "    .dataframe thead th {\n",
       "        text-align: right;\n",
       "    }\n",
       "</style>\n",
       "<table border=\"1\" class=\"dataframe\">\n",
       "  <thead>\n",
       "    <tr style=\"text-align: right;\">\n",
       "      <th></th>\n",
       "      <th>project_id</th>\n",
       "      <th>project_name</th>\n",
       "      <th>tags</th>\n",
       "    </tr>\n",
       "  </thead>\n",
       "  <tbody>\n",
       "    <tr>\n",
       "      <th>0</th>\n",
       "      <td>1213</td>\n",
       "      <td>Solar Power Plant</td>\n",
       "      <td>Construction of a large-scale solar farm to ge...</td>\n",
       "    </tr>\n",
       "    <tr>\n",
       "      <th>1</th>\n",
       "      <td>1615</td>\n",
       "      <td>Sustainable Water Management</td>\n",
       "      <td>Project to improve water efficiency in agricul...</td>\n",
       "    </tr>\n",
       "    <tr>\n",
       "      <th>2</th>\n",
       "      <td>1211</td>\n",
       "      <td>Green Building Initiative</td>\n",
       "      <td>Retrofit of existing buildings to improve ener...</td>\n",
       "    </tr>\n",
       "    <tr>\n",
       "      <th>3</th>\n",
       "      <td>11133</td>\n",
       "      <td>Eco-Friendly Packaging</td>\n",
       "      <td>Development of biodegradable packaging materia...</td>\n",
       "    </tr>\n",
       "    <tr>\n",
       "      <th>4</th>\n",
       "      <td>244</td>\n",
       "      <td>Ethical Fashion Line</td>\n",
       "      <td>Production of sustainable and ethically source...</td>\n",
       "    </tr>\n",
       "  </tbody>\n",
       "</table>\n",
       "</div>"
      ],
      "text/plain": [
       "   project_id                  project_name  \\\n",
       "0        1213             Solar Power Plant   \n",
       "1        1615  Sustainable Water Management   \n",
       "2        1211     Green Building Initiative   \n",
       "3       11133        Eco-Friendly Packaging   \n",
       "4         244          Ethical Fashion Line   \n",
       "\n",
       "                                                tags  \n",
       "0  Construction of a large-scale solar farm to ge...  \n",
       "1  Project to improve water efficiency in agricul...  \n",
       "2  Retrofit of existing buildings to improve ener...  \n",
       "3  Development of biodegradable packaging materia...  \n",
       "4  Production of sustainable and ethically source...  "
      ]
     },
     "execution_count": 448,
     "metadata": {},
     "output_type": "execute_result"
    }
   ],
   "source": [
    "new = project.drop(columns=[\"description\",\"project_type\",\"Industry\",\"Industry\",\"environment\",\"social\",\"location\",\"funding_goal(millions_USD)\"])\n",
    "new.head()"
   ]
  },
  {
   "cell_type": "code",
   "execution_count": 449,
   "id": "5163867a",
   "metadata": {},
   "outputs": [
    {
     "data": {
      "text/html": [
       "<div>\n",
       "<style scoped>\n",
       "    .dataframe tbody tr th:only-of-type {\n",
       "        vertical-align: middle;\n",
       "    }\n",
       "\n",
       "    .dataframe tbody tr th {\n",
       "        vertical-align: top;\n",
       "    }\n",
       "\n",
       "    .dataframe thead th {\n",
       "        text-align: right;\n",
       "    }\n",
       "</style>\n",
       "<table border=\"1\" class=\"dataframe\">\n",
       "  <thead>\n",
       "    <tr style=\"text-align: right;\">\n",
       "      <th></th>\n",
       "      <th>project_id</th>\n",
       "      <th>project_name</th>\n",
       "      <th>tags</th>\n",
       "    </tr>\n",
       "  </thead>\n",
       "  <tbody>\n",
       "    <tr>\n",
       "      <th>0</th>\n",
       "      <td>1213</td>\n",
       "      <td>Solar Power Plant</td>\n",
       "      <td>Construction of a large-scale solar farm to ge...</td>\n",
       "    </tr>\n",
       "    <tr>\n",
       "      <th>1</th>\n",
       "      <td>1615</td>\n",
       "      <td>Sustainable Water Management</td>\n",
       "      <td>Project to improve water efficiency in agricul...</td>\n",
       "    </tr>\n",
       "    <tr>\n",
       "      <th>2</th>\n",
       "      <td>1211</td>\n",
       "      <td>Green Building Initiative</td>\n",
       "      <td>Retrofit of existing buildings to improve ener...</td>\n",
       "    </tr>\n",
       "    <tr>\n",
       "      <th>3</th>\n",
       "      <td>11133</td>\n",
       "      <td>Eco-Friendly Packaging</td>\n",
       "      <td>Development of biodegradable packaging materia...</td>\n",
       "    </tr>\n",
       "    <tr>\n",
       "      <th>4</th>\n",
       "      <td>244</td>\n",
       "      <td>Ethical Fashion Line</td>\n",
       "      <td>Production of sustainable and ethically source...</td>\n",
       "    </tr>\n",
       "  </tbody>\n",
       "</table>\n",
       "</div>"
      ],
      "text/plain": [
       "   project_id                  project_name  \\\n",
       "0        1213             Solar Power Plant   \n",
       "1        1615  Sustainable Water Management   \n",
       "2        1211     Green Building Initiative   \n",
       "3       11133        Eco-Friendly Packaging   \n",
       "4         244          Ethical Fashion Line   \n",
       "\n",
       "                                                tags  \n",
       "0  Construction of a large-scale solar farm to ge...  \n",
       "1  Project to improve water efficiency in agricul...  \n",
       "2  Retrofit of existing buildings to improve ener...  \n",
       "3  Development of biodegradable packaging materia...  \n",
       "4  Production of sustainable and ethically source...  "
      ]
     },
     "execution_count": 449,
     "metadata": {},
     "output_type": "execute_result"
    }
   ],
   "source": [
    "\n",
    "new.head()"
   ]
  },
  {
   "cell_type": "code",
   "execution_count": 450,
   "id": "c04e5ca5",
   "metadata": {},
   "outputs": [
    {
     "data": {
      "text/plain": [
       "0     Construction of a large-scale solar farm to ge...\n",
       "1     Project to improve water efficiency in agricul...\n",
       "2     Retrofit of existing buildings to improve ener...\n",
       "3     Development of biodegradable packaging materia...\n",
       "4     Production of sustainable and ethically source...\n",
       "5     Construction of an offshore wind farm to gener...\n",
       "6     Implementation of a comprehensive recycling pr...\n",
       "7     Management of forests to promote biodiversity ...\n",
       "8     Public investment in electric buses and chargi...\n",
       "9     Providing small loans to farmers for sustainab...\n",
       "10    Development and deployment of technology to re...\n",
       "11    Construction of a geothermal power plant to ge...\n",
       "12    Implementing responsible fishing practices and...\n",
       "13    Installation of green roofs on buildings to im...\n",
       "14    Developing a circular economy system for packa...\n",
       "15    Empowering small coffee farmers through fair t...\n",
       "16    Building an eco-friendly lodge that promotes r...\n",
       "17    Providing training to farmers on climate-resil...\n",
       "18    Establishing a microgrid powered by renewable ...\n",
       "19    Implementing responsible mining practices to m...\n",
       "20    Replacing conventional streetlights with energ...\n",
       "21    Developing a closed-loop system for recycling ...\n",
       "22    Utilizing drone technology to monitor forests ...\n",
       "23    Implementing a water efficiency labeling progr...\n",
       "24    Building community-owned solar gardens to prov...\n",
       "25    Issuing green bonds to finance renewable energ...\n",
       "26    Developing insurance products that incentivize...\n",
       "27    Implementing strategies to reduce waste genera...\n",
       "28    Promoting responsible tourism practices that g...\n",
       "29    Research and development of sustainable and ec...\n",
       "30    Development and deployment of technology to co...\n",
       "31    Implementing strategies like green roofs, cool...\n",
       "32    Installation of solar panels or wind turbines ...\n",
       "33    Establishing a certification program to identi...\n",
       "34    Installing electric vehicle charging stations ...\n",
       "35    Restoring degraded land to create habitats for...\n",
       "36    Upgrading water treatment facilities to improv...\n",
       "37    Implementing programs that incentivize busines...\n",
       "38    Providing training to businesses on integratin...\n",
       "39    Facilitating investments in businesses and pro...\n",
       "40    Constructing biogas digesters that convert org...\n",
       "41    Establishing a system for reusing and recyclin...\n",
       "42    Encouraging the upcycling of used clothing int...\n",
       "43    Providing training to farmers on regenerative ...\n",
       "44    Empowering local communities to manage forests...\n",
       "45    Developing and deploying technologies to produ...\n",
       "46    Installing living walls and green roofs on bui...\n",
       "47    Providing clean water and sanitation facilitie...\n",
       "48    Organizing design competitions to encourage in...\n",
       "49    Conducting life cycle assessments (LCA) to eva...\n",
       "50    Encouraging the use of compostable food servic...\n",
       "51    Implementing blockchain technology to track th...\n",
       "52    Developing and promoting aquaponic food produc...\n",
       "53    Establishing gardens and teaching students abo...\n",
       "54    Protecting critical habitats for endangered sp...\n",
       "55    Upgrading low-income housing units with energy...\n",
       "56    Developing a circular economy system for elect...\n",
       "57    Implementing sustainable procurement policies ...\n",
       "58    Providing access to solar energy in rural comm...\n",
       "59    Investing capital in projects and businesses t...\n",
       "Name: tags, dtype: object"
      ]
     },
     "execution_count": 450,
     "metadata": {},
     "output_type": "execute_result"
    }
   ],
   "source": [
    "new['tags']"
   ]
  },
  {
   "cell_type": "code",
   "execution_count": null,
   "id": "8f0dbc2b",
   "metadata": {},
   "outputs": [],
   "source": []
  },
  {
   "cell_type": "code",
   "execution_count": 451,
   "id": "86a6dc96",
   "metadata": {},
   "outputs": [],
   "source": [
    "import pandas as pd\n",
    "from sklearn.feature_extraction.text import TfidfVectorizer\n",
    "from sklearn.metrics.pairwise import cosine_similarity"
   ]
  },
  {
   "cell_type": "code",
   "execution_count": 452,
   "id": "8c248a65",
   "metadata": {},
   "outputs": [],
   "source": [
    "def preprocess_tags(tags):\n",
    "    processed_tags = []\n",
    "    for tag in tags:\n",
    "        processed_tags.append(tag.lower().strip())  # Lowercase and strip each tag\n",
    "    return processed_tags\n"
   ]
  },
  {
   "cell_type": "code",
   "execution_count": 453,
   "id": "f6a21526",
   "metadata": {},
   "outputs": [],
   "source": [
    "# 2. Apply TF-IDF weighting\n",
    "vectorizer = TfidfVectorizer(max_features=50000, stop_words='english')\n",
    "# Preprocess tags if needed\n",
    "processed_tags = preprocess_tags(new['tags'])  # Apply preprocessing function\n",
    "vector = vectorizer.fit_transform(processed_tags).toarray()"
   ]
  },
  {
   "cell_type": "code",
   "execution_count": 454,
   "id": "f4f71fde",
   "metadata": {},
   "outputs": [],
   "source": [
    "# 3. Calculate cosine similarity\n",
    "similarity = cosine_similarity(vector)"
   ]
  },
  {
   "cell_type": "code",
   "execution_count": 455,
   "id": "1fc6520c",
   "metadata": {},
   "outputs": [
    {
     "name": "stdout",
     "output_type": "stream",
     "text": [
      "(60, 60)\n"
     ]
    }
   ],
   "source": [
    "\n",
    "# Print the shape of the similarity matrix\n",
    "print(similarity.shape)\n"
   ]
  },
  {
   "cell_type": "code",
   "execution_count": 461,
   "id": "53069cfe",
   "metadata": {},
   "outputs": [
    {
     "data": {
      "text/plain": [
       "[0.48923943977264955,\n",
       " 0.491284206690876,\n",
       " 0.500738581680718,\n",
       " 0.5026564385330858,\n",
       " 0.504789867137958,\n",
       " 0.5067433104337619,\n",
       " 0.5099114090092567,\n",
       " 0.5108798363055695,\n",
       " 0.5126261400988898,\n",
       " 0.5188257324005077,\n",
       " 0.5238742489824249,\n",
       " 0.5284881644849594,\n",
       " 0.5335584999144267,\n",
       " 0.5363497605892135,\n",
       " 0.5381361232759483,\n",
       " 0.5394245753089771,\n",
       " 0.5411162279522554,\n",
       " 0.5427653278993649,\n",
       " 0.5436061549976385,\n",
       " 0.5442153592756597,\n",
       " 0.5444529659080545,\n",
       " 0.5450601332974753,\n",
       " 0.5476031683698022,\n",
       " 0.5484953564424566,\n",
       " 0.5522165356502701,\n",
       " 0.5525879246549618,\n",
       " 0.5613217617253515,\n",
       " 0.5654502173271352,\n",
       " 0.5660546914546977,\n",
       " 0.5716638351040845,\n",
       " 0.5718588282235292,\n",
       " 0.5744309805020622,\n",
       " 0.5769368044777496,\n",
       " 0.5779973406412297,\n",
       " 0.5811563551296852,\n",
       " 0.5845481237827928,\n",
       " 0.5849270428267711,\n",
       " 0.5868543629340744,\n",
       " 0.5891869170293157,\n",
       " 0.591586898527021,\n",
       " 0.5934449772652268,\n",
       " 0.5956044519040093,\n",
       " 0.6038580684706137,\n",
       " 0.6044579466636543,\n",
       " 0.6048361401660725,\n",
       " 0.6065528980936287,\n",
       " 0.6081248698207072,\n",
       " 0.6115258957071221,\n",
       " 0.6132815842000535,\n",
       " 0.6193055516480765,\n",
       " 0.6223507238786052,\n",
       " 0.6224491091730149,\n",
       " 0.6227785210249823,\n",
       " 0.6371758572452271,\n",
       " 0.6457181154039361,\n",
       " 0.6469102224865674,\n",
       " 0.665884765835622,\n",
       " 0.6934932536062388,\n",
       " 0.8109583920000871,\n",
       " 1.0000000000000004]"
      ]
     },
     "execution_count": 461,
     "metadata": {},
     "output_type": "execute_result"
    }
   ],
   "source": [
    "sorted(similarity[0])"
   ]
  },
  {
   "cell_type": "code",
   "execution_count": 457,
   "id": "dca7f6ca",
   "metadata": {},
   "outputs": [
    {
     "data": {
      "text/plain": [
       "7"
      ]
     },
     "execution_count": 457,
     "metadata": {},
     "output_type": "execute_result"
    }
   ],
   "source": [
    "new[new['project_name'] == 'Sustainable Forestry Practices'].index[0]"
   ]
  },
  {
   "cell_type": "code",
   "execution_count": 458,
   "id": "734add2e",
   "metadata": {},
   "outputs": [],
   "source": [
    "def recommend(movie):\n",
    "    index=new[new['project_name'] == movie].index[0]\n",
    "    distances = sorted(list(enumerate(similarity[index])),reverse=True,key = lambda x: x[1])\n",
    "    for i in distances[1:6]:\n",
    "        print(new.iloc[i[0]].project_name)\n",
    "        "
   ]
  },
  {
   "cell_type": "code",
   "execution_count": 459,
   "id": "734f290c",
   "metadata": {},
   "outputs": [
    {
     "name": "stdout",
     "output_type": "stream",
     "text": [
      "Public Electric Vehicle Charging Infrastructure Deployment\n",
      "Green Building Initiative\n",
      "Microfinance for Farmers\n",
      "Ethical Fashion Line\n",
      "Eco-Friendly Packaging\n"
     ]
    }
   ],
   "source": [
    "recommend('Green Transportation Initiative')"
   ]
  },
  {
   "cell_type": "code",
   "execution_count": 463,
   "id": "e7042f9e",
   "metadata": {},
   "outputs": [],
   "source": [
    "import pickle"
   ]
  },
  {
   "cell_type": "code",
   "execution_count": 465,
   "id": "018fb0e7",
   "metadata": {},
   "outputs": [],
   "source": [
    "pickle.dump(new,open('project_list.pkl','wb'))\n",
    "pickle.dump(similarity,open('similarity.pkl','wb'))"
   ]
  },
  {
   "cell_type": "code",
   "execution_count": 466,
   "id": "92adc08b",
   "metadata": {},
   "outputs": [],
   "source": [
    "pickle.dump(project,open('details.pkl','wb'))"
   ]
  },
  {
   "cell_type": "code",
   "execution_count": null,
   "id": "99dbffad",
   "metadata": {},
   "outputs": [],
   "source": []
  }
 ],
 "metadata": {
  "kernelspec": {
   "display_name": "Python 3 (ipykernel)",
   "language": "python",
   "name": "python3"
  },
  "language_info": {
   "codemirror_mode": {
    "name": "ipython",
    "version": 3
   },
   "file_extension": ".py",
   "mimetype": "text/x-python",
   "name": "python",
   "nbconvert_exporter": "python",
   "pygments_lexer": "ipython3",
   "version": "3.11.5"
  }
 },
 "nbformat": 4,
 "nbformat_minor": 5
}
